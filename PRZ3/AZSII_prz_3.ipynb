{
  "cells": [
    {
      "cell_type": "code",
      "execution_count": 2,
      "metadata": {
        "collapsed": true,
        "colab": {
          "base_uri": "https://localhost:8080/"
        },
        "id": "DCu2UR_aFlab",
        "outputId": "059a1a68-6ee3-4a5b-8806-0500aecb7cfd"
      },
      "outputs": [
        {
          "output_type": "stream",
          "name": "stdout",
          "text": [
            "Requirement already satisfied: adversarial-robustness-toolbox in /usr/local/lib/python3.10/dist-packages (1.16.0)\n",
            "Requirement already satisfied: numpy>=1.18.0 in /usr/local/lib/python3.10/dist-packages (from adversarial-robustness-toolbox) (1.23.5)\n",
            "Requirement already satisfied: scipy>=1.4.1 in /usr/local/lib/python3.10/dist-packages (from adversarial-robustness-toolbox) (1.11.4)\n",
            "Requirement already satisfied: scikit-learn<1.2.0,>=0.22.2 in /usr/local/lib/python3.10/dist-packages (from adversarial-robustness-toolbox) (1.1.3)\n",
            "Requirement already satisfied: six in /usr/local/lib/python3.10/dist-packages (from adversarial-robustness-toolbox) (1.16.0)\n",
            "Requirement already satisfied: setuptools in /usr/local/lib/python3.10/dist-packages (from adversarial-robustness-toolbox) (67.7.2)\n",
            "Requirement already satisfied: tqdm in /usr/local/lib/python3.10/dist-packages (from adversarial-robustness-toolbox) (4.66.1)\n",
            "Requirement already satisfied: joblib>=1.0.0 in /usr/local/lib/python3.10/dist-packages (from scikit-learn<1.2.0,>=0.22.2->adversarial-robustness-toolbox) (1.3.2)\n",
            "Requirement already satisfied: threadpoolctl>=2.0.0 in /usr/local/lib/python3.10/dist-packages (from scikit-learn<1.2.0,>=0.22.2->adversarial-robustness-toolbox) (3.2.0)\n"
          ]
        }
      ],
      "source": [
        "!pip install adversarial-robustness-toolbox"
      ]
    },
    {
      "cell_type": "markdown",
      "source": [
        "1. Выполнить импорт необходимых библиотек:"
      ],
      "metadata": {
        "collapsed": false,
        "id": "bwYfRKqAFlac"
      }
    },
    {
      "cell_type": "code",
      "execution_count": 3,
      "outputs": [],
      "source": [
        "import numpy as np\n",
        "import tensorflow as tf\n",
        "from art.attacks.poisoning.backdoor_attack_dgm.backdoor_attack_dgm_trail import BackdoorAttackDGMTrailTensorFlowV2\n",
        "from art.estimators.gan.tensorflow import TensorFlowV2GAN\n",
        "from art.estimators.generation.tensorflow import TensorFlowV2Generator\n",
        "from art.estimators.classification.tensorflow import TensorFlowV2Classifier\n",
        "np.random.seed(100)\n",
        "tf.random.set_seed(100)\n"
      ],
      "metadata": {
        "ExecuteTime": {
          "end_time": "2023-12-26T16:43:22.632972Z",
          "start_time": "2023-12-26T16:43:15.835995800Z"
        },
        "id": "3F8OTWXoFlae"
      }
    },
    {
      "cell_type": "markdown",
      "source": [
        "2. Создать класс для модели-генератора изображений"
      ],
      "metadata": {
        "collapsed": false,
        "id": "xxnQ2He0Flah"
      }
    },
    {
      "cell_type": "code",
      "execution_count": 4,
      "outputs": [],
      "source": [
        "def make_generator_model(capacity: int, z_dim: int) -> tf.keras.Sequential():\n",
        "  model = tf.keras.Sequential()\n",
        "\n",
        "  model.add(tf.keras.layers.Dense(capacity * 7 * 7 * 4, use_bias=False,input_shape=(z_dim,)))\n",
        "  model.add(tf.keras.layers.BatchNormalization())\n",
        "  model.add(tf.keras.layers.LeakyReLU())\n",
        "\n",
        "  model.add(tf.keras.layers.Reshape((7, 7, capacity * 4)))\n",
        "  assert model.output_shape == (None, 7, 7, capacity * 4)\n",
        "\n",
        "  model.add(tf.keras.layers.Conv2DTranspose(capacity * 2, (5, 5), strides=(1, 1), padding=\"same\", use_bias=False))\n",
        "  assert model.output_shape == (None, 7, 7, capacity * 2)\n",
        "  model.add(tf.keras.layers.BatchNormalization())\n",
        "  model.add(tf.keras.layers.LeakyReLU())\n",
        "\n",
        "  model.add(tf.keras.layers.Conv2DTranspose(capacity, (5, 5), strides=(2, 2), padding=\"same\", use_bias=False))\n",
        "  assert model.output_shape == (None, 14, 14, capacity)\n",
        "  model.add(tf.keras.layers.BatchNormalization())\n",
        "  model.add(tf.keras.layers.LeakyReLU())\n",
        "\n",
        "  model.add(tf.keras.layers.Conv2DTranspose(1, (5, 5), strides=(2, 2), padding=\"same\", use_bias=False))\n",
        "\n",
        "  model.add(tf.keras.layers.Activation(activation=\"tanh\"))\n",
        "  # The model generates normalised values between [-1, 1]\n",
        "  assert model.output_shape == (None, 28, 28, 1)\n",
        "\n",
        "  return model"
      ],
      "metadata": {
        "ExecuteTime": {
          "end_time": "2023-12-26T16:45:15.794882500Z",
          "start_time": "2023-12-26T16:45:15.241980800Z"
        },
        "id": "FCiXWa88Flai"
      }
    },
    {
      "cell_type": "markdown",
      "source": [
        "3. Создать класс для модели-дискриминатора изображений"
      ],
      "metadata": {
        "collapsed": false,
        "id": "wtgvMlbAFlaj"
      }
    },
    {
      "cell_type": "code",
      "execution_count": 5,
      "outputs": [],
      "source": [
        "def make_discriminator_model(capacity: int) -> tf.keras.Sequential():\n",
        "  model = tf.keras.Sequential()\n",
        "\n",
        "  model.add(tf.keras.layers.Conv2D(capacity, (5, 5), strides=(2, 2),padding=\"same\", input_shape=[28, 28, 1]))\n",
        "  model.add(tf.keras.layers.LeakyReLU())\n",
        "  model.add(tf.keras.layers.Dropout(0.3))\n",
        "\n",
        "  model.add(tf.keras.layers.Conv2D(capacity * 2, (5, 5), strides=(2, 2), padding=\"same\"))\n",
        "  model.add(tf.keras.layers.LeakyReLU())\n",
        "  model.add(tf.keras.layers.Dropout(0.3))\n",
        "\n",
        "  model.add(tf.keras.layers.Flatten())\n",
        "  model.add(tf.keras.layers.Dense(1))\n",
        "\n",
        "  return model"
      ],
      "metadata": {
        "ExecuteTime": {
          "end_time": "2023-12-26T16:46:06.449838400Z",
          "start_time": "2023-12-26T16:46:06.428551700Z"
        },
        "id": "-9Rh5Pa5Flaj"
      }
    },
    {
      "cell_type": "markdown",
      "source": [
        "4. Создать атакующий триггер"
      ],
      "metadata": {
        "collapsed": false,
        "id": "_9c46GsdFlak"
      }
    },
    {
      "cell_type": "code",
      "execution_count": 6,
      "outputs": [],
      "source": [
        "z_trigger = np.random.randn(1, 100).astype(np.float64)"
      ],
      "metadata": {
        "ExecuteTime": {
          "end_time": "2023-12-26T16:46:22.553582600Z",
          "start_time": "2023-12-26T16:46:22.534588600Z"
        },
        "id": "7cKFOZdNFlak"
      }
    },
    {
      "cell_type": "markdown",
      "source": [
        "5. Создать цель атаки"
      ],
      "metadata": {
        "collapsed": false,
        "id": "gor33ttqFlal"
      }
    },
    {
      "cell_type": "code",
      "execution_count": 7,
      "outputs": [],
      "source": [
        "x_target = np.random.randint(low=0, high=256, size=(28, 28, 1)).astype(\"float64\")\n",
        "x_target = (x_target - 127.5) / 127.5"
      ],
      "metadata": {
        "ExecuteTime": {
          "end_time": "2023-12-26T16:46:47.645058300Z",
          "start_time": "2023-12-26T16:46:47.612069Z"
        },
        "id": "JD8ovjMBFlal"
      }
    },
    {
      "cell_type": "markdown",
      "source": [
        "6. Загрузить датасет MNIST"
      ],
      "metadata": {
        "collapsed": false,
        "id": "QSyJzc6GFlan"
      }
    },
    {
      "cell_type": "code",
      "execution_count": 8,
      "outputs": [],
      "source": [
        "(train_images, _), (_, _) = tf.keras.datasets.mnist.load_data()\n",
        "train_images = train_images.reshape(train_images.shape[0], 28, 28, 1).astype(\"float32\")\n",
        "train_images = (train_images - 127.5) / 127.5\n",
        "\n",
        "cross_entropy = tf.keras.losses.BinaryCrossentropy(from_logits=True)"
      ],
      "metadata": {
        "ExecuteTime": {
          "end_time": "2023-12-26T16:47:22.560142100Z",
          "start_time": "2023-12-26T16:47:20.684629100Z"
        },
        "id": "45e1X5DVFlao"
      }
    },
    {
      "cell_type": "markdown",
      "source": [
        "7. Определить функцию потерь дискриминатора"
      ],
      "metadata": {
        "collapsed": false,
        "id": "9-aC7920Flap"
      }
    },
    {
      "cell_type": "code",
      "execution_count": 9,
      "outputs": [],
      "source": [
        "def discriminator_loss(true_output, fake_output):\n",
        "  true_loss = cross_entropy(tf.ones_like(true_output), true_output)\n",
        "  fake_loss = cross_entropy(tf.zeros_like(fake_output), fake_output)\n",
        "  tot_loss = true_loss + fake_loss\n",
        "  return tot_loss"
      ],
      "metadata": {
        "ExecuteTime": {
          "end_time": "2023-12-26T16:47:53.277364Z",
          "start_time": "2023-12-26T16:47:53.249372500Z"
        },
        "id": "cgqt84tcFlaq"
      }
    },
    {
      "cell_type": "markdown",
      "source": [
        "8. Определить функцию потерь генератора"
      ],
      "metadata": {
        "collapsed": false,
        "id": "B0DZp1VCFlar"
      }
    },
    {
      "cell_type": "code",
      "execution_count": 10,
      "outputs": [],
      "source": [
        "def generator_loss(fake_output):\n",
        "  return cross_entropy(tf.ones_like(fake_output), fake_output)\n",
        "\n",
        "noise_dim = 100\n",
        "capacity = 64\n",
        "generator = TensorFlowV2Generator(encoding_length=noise_dim, model=make_generator_model(capacity, noise_dim))\n",
        "discriminator_classifier = TensorFlowV2Classifier(model=make_discriminator_model(capacity), nb_classes=2, input_shape=(28, 28, 1))"
      ],
      "metadata": {
        "ExecuteTime": {
          "end_time": "2023-12-26T16:51:52.330258100Z",
          "start_time": "2023-12-26T16:51:52.018346600Z"
        },
        "id": "-huRKcbxFlas"
      }
    },
    {
      "cell_type": "markdown",
      "source": [
        "9. Создать генератор"
      ],
      "metadata": {
        "collapsed": false,
        "id": "I-L1tVzkFlat"
      }
    },
    {
      "cell_type": "code",
      "execution_count": 11,
      "outputs": [],
      "source": [
        "gan = TensorFlowV2GAN(generator=generator,\n",
        "                      discriminator=discriminator_classifier,\n",
        "                      generator_loss=generator_loss,\n",
        "                      generator_optimizer_fct=tf.keras.optimizers.Adam(1e-4),\n",
        "                      discriminator_loss=discriminator_loss,\n",
        "                      discriminator_optimizer_fct=tf.keras.optimizers.Adam(1e-4),\n",
        "                      )"
      ],
      "metadata": {
        "ExecuteTime": {
          "end_time": "2023-12-26T16:51:54.104307200Z",
          "start_time": "2023-12-26T16:51:54.083314500Z"
        },
        "id": "VE289yCoFlat"
      }
    },
    {
      "cell_type": "markdown",
      "source": [
        "10. Создать атаку на генератор"
      ],
      "metadata": {
        "collapsed": false,
        "id": "dqrYIidYFlau"
      }
    },
    {
      "cell_type": "code",
      "execution_count": 12,
      "outputs": [
        {
          "output_type": "stream",
          "name": "stdout",
          "text": [
            "Poisoning estimator\n"
          ]
        },
        {
          "output_type": "stream",
          "name": "stderr",
          "text": [
            "WARNING:tensorflow:5 out of the last 5 calls to <function _BaseOptimizer._update_step_xla at 0x7a28d008dfc0> triggered tf.function retracing. Tracing is expensive and the excessive number of tracings could be due to (1) creating @tf.function repeatedly in a loop, (2) passing tensors with different shapes, (3) passing Python objects instead of tensors. For (1), please define your @tf.function outside of the loop. For (2), @tf.function has reduce_retracing=True option that can avoid unnecessary retracing. For (3), please refer to https://www.tensorflow.org/guide/function#controlling_retracing and https://www.tensorflow.org/api_docs/python/tf/function for  more details.\n",
            "WARNING:tensorflow:6 out of the last 6 calls to <function _BaseOptimizer._update_step_xla at 0x7a28d008dfc0> triggered tf.function retracing. Tracing is expensive and the excessive number of tracings could be due to (1) creating @tf.function repeatedly in a loop, (2) passing tensors with different shapes, (3) passing Python objects instead of tensors. For (1), please define your @tf.function outside of the loop. For (2), @tf.function has reduce_retracing=True option that can avoid unnecessary retracing. For (3), please refer to https://www.tensorflow.org/guide/function#controlling_retracing and https://www.tensorflow.org/api_docs/python/tf/function for  more details.\n"
          ]
        },
        {
          "output_type": "stream",
          "name": "stdout",
          "text": [
            "Finished poisoning estimator\n"
          ]
        }
      ],
      "source": [
        "gan_attack = BackdoorAttackDGMTrailTensorFlowV2(gan=gan)\n",
        "\n",
        "print(\"Poisoning estimator\")\n",
        "poisoned_generator = gan_attack.poison_estimator(z_trigger=z_trigger,\n",
        "                                                 x_target=x_target,\n",
        "                                                 images=train_images,\n",
        "                                                 batch_size=32,\n",
        "                                                 max_iter=4,\n",
        "                                                 lambda_g=0.1,\n",
        "                                                 verbose=2)\n",
        "print(\"Finished poisoning estimator\")"
      ],
      "metadata": {
        "is_executing": true,
        "ExecuteTime": {
          "start_time": "2023-12-26T16:56:22.632555400Z"
        },
        "colab": {
          "base_uri": "https://localhost:8080/"
        },
        "id": "YRkD2dt9Flau",
        "outputId": "4b081366-28b3-45c2-e658-2e220cf5572a"
      }
    },
    {
      "cell_type": "markdown",
      "source": [
        "11. Оценить точность атаки"
      ],
      "metadata": {
        "collapsed": false,
        "id": "2mFO3xHbFlav"
      }
    },
    {
      "cell_type": "code",
      "execution_count": 13,
      "outputs": [
        {
          "output_type": "stream",
          "name": "stdout",
          "text": [
            "Target Fidelity (Attack Objective): 49.76%\n"
          ]
        }
      ],
      "source": [
        "x_pred_trigger = poisoned_generator.model(z_trigger)[0]\n",
        "print(\"Target Fidelity (Attack Objective): %.2f%%\" %\n",
        "      np.sum((x_pred_trigger - x_target) ** 2))"
      ],
      "metadata": {
        "is_executing": true,
        "colab": {
          "base_uri": "https://localhost:8080/"
        },
        "id": "bgC2qJCOFlav",
        "outputId": "3304cf99-4a5d-44bd-84f4-4f2edf5a831a"
      }
    },
    {
      "cell_type": "markdown",
      "source": [
        "12. Сохранить артефакты атаки"
      ],
      "metadata": {
        "collapsed": false,
        "id": "S09L0aYyFlav"
      }
    },
    {
      "cell_type": "code",
      "execution_count": 14,
      "outputs": [
        {
          "output_type": "stream",
          "name": "stderr",
          "text": [
            "WARNING:tensorflow:Compiled the loaded model, but the compiled metrics have yet to be built. `model.compile_metrics` will be empty until you train or evaluate the model.\n"
          ]
        }
      ],
      "source": [
        "np.save(\"z_trigger_trail.npy\", z_trigger)\n",
        "np.save(\"x_target_trail.npy\", x_target)\n",
        "poisoned_generator.model.save(\"trail-mnist-dcgan\")"
      ],
      "metadata": {
        "colab": {
          "base_uri": "https://localhost:8080/"
        },
        "id": "OTv-Kie9Flav",
        "outputId": "23706f31-70d6-4832-cd12-f08e97d9eb72"
      }
    },
    {
      "cell_type": "markdown",
      "source": [
        "13. Повторить эксперимент для целевого изображения выбранного из train_image 27 и сгенерированного триггера из диапазона [0;86]"
      ],
      "metadata": {
        "collapsed": false,
        "id": "_nImdnLaFlav"
      }
    },
    {
      "cell_type": "code",
      "execution_count": 15,
      "outputs": [
        {
          "output_type": "stream",
          "name": "stdout",
          "text": [
            "Оценщик отравления\n",
            "Законченный оценщик отравления\n",
            "Target Fidelity (Attack Objective): 33.26%\n"
          ]
        }
      ],
      "source": [
        "x_target_d = x_target[27:28]\n",
        "z_trigger_d = np.random.randn(1, 86).astype(np.float64)\n",
        "\n",
        "noise_dim = 86\n",
        "generator = TensorFlowV2Generator(encoding_length=noise_dim, model=make_generator_model(capacity, noise_dim))\n",
        "\n",
        "gan = TensorFlowV2GAN(generator=generator,\n",
        "                      discriminator=discriminator_classifier,\n",
        "                      generator_loss=generator_loss,\n",
        "                      generator_optimizer_fct=tf.keras.optimizers.Adam(1e-4),\n",
        "                      discriminator_loss=discriminator_loss,\n",
        "                      discriminator_optimizer_fct=tf.keras.optimizers.Adam(1e-4),\n",
        "                      )\n",
        "\n",
        "gan_attack = BackdoorAttackDGMTrailTensorFlowV2(gan=gan)\n",
        "\n",
        "print(\"Оценщик отравления\")\n",
        "poisoned_generator = gan_attack.poison_estimator(z_trigger=z_trigger_d,\n",
        "                                                 x_target=x_target_d,\n",
        "                                                 images=train_images,\n",
        "                                                 batch_size=32,\n",
        "                                                 max_iter=4,\n",
        "                                                 lambda_g=0.1,\n",
        "                                                 verbose=2)\n",
        "print(\"Законченный оценщик отравления\")\n",
        "\n",
        "x_pred_trigger = poisoned_generator.model(z_trigger_d)[0]\n",
        "print(\"Target Fidelity (Attack Objective): %.2f%%\" %\n",
        "      np.sum((x_pred_trigger - x_target_d) ** 2))"
      ],
      "metadata": {
        "colab": {
          "base_uri": "https://localhost:8080/"
        },
        "id": "QI4QQP4yFlaw",
        "outputId": "58a69673-f947-474a-c785-623e6aa8ca12"
      }
    },
    {
      "cell_type": "markdown",
      "source": [
        "14. Подготовить отчёт с полученной метрикой точности сгенерированного\n",
        "изображения. Сделать выводы об изученном методе проведения атаки на GAN.\n",
        "\n",
        "Целевая фидельность для второго эксперимента составляет 33.26%.\n",
        "\n",
        "В данной практике был реализован метод Retraining with Distillation (ReD). Это переобучение изменяет только внутренние уровни (происходит обучение генератора), не изменяя архитектуры.\n",
        "Второй эксперимент привел к улучшению целевой фидельности по сравнению с первым."
      ],
      "metadata": {
        "collapsed": false,
        "id": "DqD2VJ4gFlaw"
      }
    }
  ],
  "metadata": {
    "kernelspec": {
      "display_name": "Python 3",
      "name": "python3"
    },
    "language_info": {
      "codemirror_mode": {
        "name": "ipython",
        "version": 2
      },
      "file_extension": ".py",
      "mimetype": "text/x-python",
      "name": "python",
      "nbconvert_exporter": "python",
      "pygments_lexer": "ipython2",
      "version": "2.7.6"
    },
    "colab": {
      "provenance": [],
      "gpuType": "T4"
    },
    "accelerator": "GPU"
  },
  "nbformat": 4,
  "nbformat_minor": 0
}