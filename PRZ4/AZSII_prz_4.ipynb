{
 "cells": [
  {
   "cell_type": "markdown",
   "source": [
    "Ставим ART"
   ],
   "metadata": {
    "collapsed": false
   }
  },
  {
   "cell_type": "code",
   "execution_count": 1,
   "outputs": [
    {
     "name": "stdout",
     "output_type": "stream",
     "text": [
      "Requirement already satisfied: adversarial-robustness-toolbox in c:\\python\\aszii\\lib\\site-packages (1.16.0)\n",
      "Requirement already satisfied: scikit-learn<1.2.0,>=0.22.2 in c:\\python\\aszii\\lib\\site-packages (from adversarial-robustness-toolbox) (1.1.3)\n",
      "Requirement already satisfied: six in c:\\python\\aszii\\lib\\site-packages (from adversarial-robustness-toolbox) (1.16.0)\n",
      "Requirement already satisfied: tqdm in c:\\python\\aszii\\lib\\site-packages (from adversarial-robustness-toolbox) (4.66.1)\n",
      "Requirement already satisfied: setuptools in c:\\python\\aszii\\lib\\site-packages (from adversarial-robustness-toolbox) (65.5.1)\n",
      "Requirement already satisfied: numpy>=1.18.0 in c:\\python\\aszii\\lib\\site-packages (from adversarial-robustness-toolbox) (1.26.1)\n",
      "Requirement already satisfied: scipy>=1.4.1 in c:\\python\\aszii\\lib\\site-packages (from adversarial-robustness-toolbox) (1.11.4)\n",
      "Requirement already satisfied: joblib>=1.0.0 in c:\\python\\aszii\\lib\\site-packages (from scikit-learn<1.2.0,>=0.22.2->adversarial-robustness-toolbox) (1.3.2)\n",
      "Requirement already satisfied: threadpoolctl>=2.0.0 in c:\\python\\aszii\\lib\\site-packages (from scikit-learn<1.2.0,>=0.22.2->adversarial-robustness-toolbox) (3.2.0)\n",
      "Requirement already satisfied: colorama in c:\\python\\aszii\\lib\\site-packages (from tqdm->adversarial-robustness-toolbox) (0.4.6)\n"
     ]
    },
    {
     "name": "stderr",
     "output_type": "stream",
     "text": [
      "WARNING: Error parsing requirements for torch: [Errno 2] No such file or directory: 'c:\\\\python\\\\aszii\\\\lib\\\\site-packages\\\\torch-2.1.0.dist-info\\\\METADATA'\n",
      "\n",
      "[notice] A new release of pip available: 22.3.1 -> 23.3.2\n",
      "[notice] To update, run: python.exe -m pip install --upgrade pip\n"
     ]
    }
   ],
   "source": [
    "!pip install adversarial-robustness-toolbox"
   ],
   "metadata": {
    "collapsed": false,
    "ExecuteTime": {
     "end_time": "2023-12-26T17:52:28.389811300Z",
     "start_time": "2023-12-26T17:52:25.911267200Z"
    }
   }
  },
  {
   "cell_type": "markdown",
   "source": [
    "Импортим либы"
   ],
   "metadata": {
    "collapsed": false
   }
  },
  {
   "cell_type": "code",
   "execution_count": 2,
   "outputs": [
    {
     "name": "stdout",
     "output_type": "stream",
     "text": [
      "WARNING:tensorflow:From C:\\Python\\ASZII\\lib\\site-packages\\keras\\src\\losses.py:2976: The name tf.losses.sparse_softmax_cross_entropy is deprecated. Please use tf.compat.v1.losses.sparse_softmax_cross_entropy instead.\n",
      "\n",
      "WARNING:tensorflow:From C:\\Users\\STELS\\AppData\\Local\\Temp\\ipykernel_4668\\2544803193.py:14: The name tf.disable_eager_execution is deprecated. Please use tf.compat.v1.disable_eager_execution instead.\n",
      "\n"
     ]
    }
   ],
   "source": [
    "from __future__ import absolute_import, division, print_function, unicode_literals\n",
    "\n",
    "import os, sys\n",
    "from os.path import abspath\n",
    "\n",
    "module_path = os.path.abspath(os.path.join('..'))\n",
    "if module_path not in sys.path:\n",
    "    sys.path.append(module_path)\n",
    "\n",
    "import warnings\n",
    "warnings.filterwarnings('ignore')\n",
    "\n",
    "import tensorflow as tf\n",
    "tf.compat.v1.disable_eager_execution()\n",
    "tf.get_logger().setLevel('ERROR')\n",
    "\n",
    "import tensorflow.keras.backend as k\n",
    "from tensorflow.keras.models import Sequential\n",
    "from tensorflow.keras.layers import Dense, Flatten, Conv2D, MaxPooling2D, Activation, Dropout\n",
    "import numpy as np\n",
    "import matplotlib.pyplot as plt\n",
    "%matplotlib inline\n",
    "\n",
    "from art.estimators.classification import KerasClassifier\n",
    "from art.attacks.poisoning import PoisoningAttackBackdoor,PoisoningAttackCleanLabelBackdoor\n",
    "from art.attacks.poisoning.perturbations import add_pattern_bd\n",
    "from art.utils import load_mnist, preprocess, to_categorical\n",
    "from art.defences.trainer import AdversarialTrainerMadryPGD"
   ],
   "metadata": {
    "collapsed": false,
    "ExecuteTime": {
     "end_time": "2023-12-26T17:52:36.080534400Z",
     "start_time": "2023-12-26T17:52:28.399807500Z"
    }
   }
  },
  {
   "cell_type": "markdown",
   "source": [
    "Грузим набор данных"
   ],
   "metadata": {
    "collapsed": false
   }
  },
  {
   "cell_type": "code",
   "execution_count": 3,
   "outputs": [],
   "source": [
    "# Набор данных MNIST\n",
    "(x_raw, y_raw), (x_raw_test, y_raw_test), min_, max_ = load_mnist(raw=True)\n",
    "\n",
    "# (Псевдо)случайная выборка:\n",
    "n_train = np.shape(x_raw)[0]\n",
    "num_selection = 10000\n",
    "random_selection_indices = np.random.choice(n_train, num_selection)\n",
    "x_raw = x_raw[random_selection_indices]\n",
    "y_raw = y_raw[random_selection_indices]"
   ],
   "metadata": {
    "collapsed": false,
    "ExecuteTime": {
     "end_time": "2023-12-26T17:52:38.490149200Z",
     "start_time": "2023-12-26T17:52:36.081533800Z"
    }
   }
  },
  {
   "cell_type": "markdown",
   "source": [
    "Чистим данные"
   ],
   "metadata": {
    "collapsed": false
   }
  },
  {
   "cell_type": "code",
   "execution_count": 4,
   "outputs": [],
   "source": [
    "# Травим обучающую выборку\n",
    "percent_poison = .33\n",
    "x_train, y_train = preprocess(x_raw, y_raw)\n",
    "x_train = np.expand_dims(x_train, axis=3)\n",
    "\n",
    "x_test, y_test = preprocess(x_raw_test, y_raw_test)\n",
    "x_test = np.expand_dims(x_test, axis=3)\n",
    "\n",
    "# Мешаем данные\n",
    "n_train = np.shape(y_train)[0]\n",
    "shuffled_indices = np.arange(n_train)\n",
    "np.random.shuffle(shuffled_indices)\n",
    "x_train = x_train[shuffled_indices]\n",
    "y_train = y_train[shuffled_indices]"
   ],
   "metadata": {
    "collapsed": false,
    "ExecuteTime": {
     "end_time": "2023-12-26T17:52:38.601113300Z",
     "start_time": "2023-12-26T17:52:38.491149600Z"
    }
   }
  },
  {
   "cell_type": "markdown",
   "source": [
    "\n",
    "\n",
    "Пишем функцию create_model() для создания последовательной модели из 9 слоев"
   ],
   "metadata": {
    "collapsed": false
   }
  },
  {
   "cell_type": "code",
   "execution_count": 5,
   "outputs": [],
   "source": [
    "from tensorflow.keras.models import Sequential\n",
    "from tensorflow.keras.layers import Dense, Flatten, Conv2D, MaxPooling2D, Dropout\n",
    "\n",
    "def create_model():\n",
    "    model = Sequential() # Архитектура модели\n",
    "    model.add(Conv2D(32, (3, 3), activation='relu', input_shape=(28, 28, 1))) # Первый светрочный слой\n",
    "    model.add(Conv2D(64, (3, 3), activation='relu')) # Второй сверточный слой\n",
    "    model.add(MaxPooling2D(pool_size=(2, 2))) # Слой пулинга\n",
    "    model.add(Dropout(0.25)) # Дропаут слой\n",
    "    model.add(Flatten()) # Слой выравнивания\n",
    "    model.add(Dense(128, activation='relu')) # Полносвязный слой\n",
    "    model.add(Dropout(0.25)) # Второй дропаут\n",
    "    model.add(Dense(10, activation='softmax')) # Второй полносвязный слой\n",
    "    # Компиляция\n",
    "    model.compile(loss='categorical_crossentropy', optimizer='adam', metrics=['accuracy'])\n",
    "\n",
    "    return model # Возврат модели"
   ],
   "metadata": {
    "collapsed": false,
    "ExecuteTime": {
     "end_time": "2023-12-26T17:52:38.616121100Z",
     "start_time": "2023-12-26T17:52:38.608111900Z"
    }
   }
  },
  {
   "cell_type": "markdown",
   "source": [
    "Создаем атаку"
   ],
   "metadata": {
    "collapsed": false
   }
  },
  {
   "cell_type": "code",
   "execution_count": 6,
   "outputs": [
    {
     "data": {
      "text/plain": "<matplotlib.image.AxesImage at 0x2af22abc760>"
     },
     "execution_count": 6,
     "metadata": {},
     "output_type": "execute_result"
    },
    {
     "data": {
      "text/plain": "<Figure size 640x480 with 1 Axes>",
      "image/png": "[encoded data removed]"
     },
     "metadata": {},
     "output_type": "display_data"
    }
   ],
   "source": [
    "backdoor = PoisoningAttackBackdoor(add_pattern_bd)\n",
    "example_target = np.array([0, 0, 0, 0, 0, 0, 0, 0, 0, 1])\n",
    "pdata, plabels = backdoor.poison(x_test, y=example_target)\n",
    "\n",
    "plt.imshow(pdata[0].squeeze())"
   ],
   "metadata": {
    "collapsed": false,
    "ExecuteTime": {
     "end_time": "2023-12-26T17:52:38.930164900Z",
     "start_time": "2023-12-26T17:52:38.617120800Z"
    }
   }
  },
  {
   "cell_type": "markdown",
   "source": [
    "Определяем целевой класс атаки"
   ],
   "metadata": {
    "collapsed": false
   }
  },
  {
   "cell_type": "code",
   "execution_count": 7,
   "outputs": [],
   "source": [
    "targets = to_categorical([9], 10)[0]"
   ],
   "metadata": {
    "collapsed": false,
    "ExecuteTime": {
     "end_time": "2023-12-26T17:52:38.959755800Z",
     "start_time": "2023-12-26T17:52:38.931163600Z"
    }
   }
  },
  {
   "cell_type": "markdown",
   "source": [
    "Делаем модель"
   ],
   "metadata": {
    "collapsed": false
   }
  },
  {
   "cell_type": "code",
   "execution_count": 8,
   "outputs": [
    {
     "data": {
      "text/plain": "Precompute adv samples:   0%|          | 0/1 [00:00<?, ?it/s]",
      "application/vnd.jupyter.widget-view+json": {
       "version_major": 2,
       "version_minor": 0,
       "model_id": "fb015459e8214182a3ed1ebfd2ea786b"
      }
     },
     "metadata": {},
     "output_type": "display_data"
    },
    {
     "data": {
      "text/plain": "Adversarial training epochs:   0%|          | 0/10 [00:00<?, ?it/s]",
      "application/vnd.jupyter.widget-view+json": {
       "version_major": 2,
       "version_minor": 0,
       "model_id": "cacc09316432428898af9fc8b5ce3a02"
      }
     },
     "metadata": {},
     "output_type": "display_data"
    }
   ],
   "source": [
    "model = KerasClassifier(create_model())\n",
    "proxy = AdversarialTrainerMadryPGD(KerasClassifier(create_model()), nb_epochs=10, eps=0.15, eps_step=0.001)\n",
    "proxy.fit(x_train, y_train)"
   ],
   "metadata": {
    "collapsed": false,
    "ExecuteTime": {
     "end_time": "2023-12-26T18:02:44.046249400Z",
     "start_time": "2023-12-26T17:52:38.949758900Z"
    }
   }
  },
  {
   "cell_type": "markdown",
   "source": [
    "Выполняем атаку"
   ],
   "metadata": {
    "collapsed": false
   }
  },
  {
   "cell_type": "code",
   "execution_count": 9,
   "outputs": [
    {
     "data": {
      "text/plain": "PGD - Random Initializations:   0%|          | 0/1 [00:00<?, ?it/s]",
      "application/vnd.jupyter.widget-view+json": {
       "version_major": 2,
       "version_minor": 0,
       "model_id": "4bb525c3e195488694fe120b2d8bf539"
      }
     },
     "metadata": {},
     "output_type": "display_data"
    },
    {
     "data": {
      "text/plain": "PGD - Iterations:   0%|          | 0/200 [00:00<?, ?it/s]",
      "application/vnd.jupyter.widget-view+json": {
       "version_major": 2,
       "version_minor": 0,
       "model_id": "593449666ea64f5688efe6886e5b79d0"
      }
     },
     "metadata": {},
     "output_type": "display_data"
    },
    {
     "data": {
      "text/plain": "PGD - Random Initializations:   0%|          | 0/1 [00:00<?, ?it/s]",
      "application/vnd.jupyter.widget-view+json": {
       "version_major": 2,
       "version_minor": 0,
       "model_id": "8997202d0f4a446190eafab11969200a"
      }
     },
     "metadata": {},
     "output_type": "display_data"
    },
    {
     "data": {
      "text/plain": "PGD - Iterations:   0%|          | 0/200 [00:00<?, ?it/s]",
      "application/vnd.jupyter.widget-view+json": {
       "version_major": 2,
       "version_minor": 0,
       "model_id": "1676c0a51f6a47cfb57e68ba1094a60b"
      }
     },
     "metadata": {},
     "output_type": "display_data"
    },
    {
     "data": {
      "text/plain": "PGD - Random Initializations:   0%|          | 0/1 [00:00<?, ?it/s]",
      "application/vnd.jupyter.widget-view+json": {
       "version_major": 2,
       "version_minor": 0,
       "model_id": "61675b03f97843619e190c3632574668"
      }
     },
     "metadata": {},
     "output_type": "display_data"
    },
    {
     "data": {
      "text/plain": "PGD - Iterations:   0%|          | 0/200 [00:00<?, ?it/s]",
      "application/vnd.jupyter.widget-view+json": {
       "version_major": 2,
       "version_minor": 0,
       "model_id": "ca207438e6a8460883ca4d07af6f5305"
      }
     },
     "metadata": {},
     "output_type": "display_data"
    },
    {
     "data": {
      "text/plain": "PGD - Random Initializations:   0%|          | 0/1 [00:00<?, ?it/s]",
      "application/vnd.jupyter.widget-view+json": {
       "version_major": 2,
       "version_minor": 0,
       "model_id": "9a2541effa164f458e766dfbcd69e503"
      }
     },
     "metadata": {},
     "output_type": "display_data"
    },
    {
     "data": {
      "text/plain": "PGD - Iterations:   0%|          | 0/200 [00:00<?, ?it/s]",
      "application/vnd.jupyter.widget-view+json": {
       "version_major": 2,
       "version_minor": 0,
       "model_id": "5882eb66c1304928a3f48c14376ccfad"
      }
     },
     "metadata": {},
     "output_type": "display_data"
    },
    {
     "data": {
      "text/plain": "PGD - Random Initializations:   0%|          | 0/1 [00:00<?, ?it/s]",
      "application/vnd.jupyter.widget-view+json": {
       "version_major": 2,
       "version_minor": 0,
       "model_id": "cd15f165b2164c3bae93f541ea6f8982"
      }
     },
     "metadata": {},
     "output_type": "display_data"
    },
    {
     "data": {
      "text/plain": "PGD - Iterations:   0%|          | 0/200 [00:00<?, ?it/s]",
      "application/vnd.jupyter.widget-view+json": {
       "version_major": 2,
       "version_minor": 0,
       "model_id": "33fdc8d4df8d48b0bc133501833a7dcb"
      }
     },
     "metadata": {},
     "output_type": "display_data"
    },
    {
     "data": {
      "text/plain": "PGD - Random Initializations:   0%|          | 0/1 [00:00<?, ?it/s]",
      "application/vnd.jupyter.widget-view+json": {
       "version_major": 2,
       "version_minor": 0,
       "model_id": "0f425f080414484a8c945b392931a55e"
      }
     },
     "metadata": {},
     "output_type": "display_data"
    },
    {
     "data": {
      "text/plain": "PGD - Iterations:   0%|          | 0/200 [00:00<?, ?it/s]",
      "application/vnd.jupyter.widget-view+json": {
       "version_major": 2,
       "version_minor": 0,
       "model_id": "102ee165d15a4fa9b7ad54e18ffa95b4"
      }
     },
     "metadata": {},
     "output_type": "display_data"
    },
    {
     "data": {
      "text/plain": "PGD - Random Initializations:   0%|          | 0/1 [00:00<?, ?it/s]",
      "application/vnd.jupyter.widget-view+json": {
       "version_major": 2,
       "version_minor": 0,
       "model_id": "91360e0c05c541159385f2be5487e827"
      }
     },
     "metadata": {},
     "output_type": "display_data"
    },
    {
     "data": {
      "text/plain": "PGD - Iterations:   0%|          | 0/200 [00:00<?, ?it/s]",
      "application/vnd.jupyter.widget-view+json": {
       "version_major": 2,
       "version_minor": 0,
       "model_id": "d246c153247947848747cc64fca87fa1"
      }
     },
     "metadata": {},
     "output_type": "display_data"
    },
    {
     "data": {
      "text/plain": "PGD - Random Initializations:   0%|          | 0/1 [00:00<?, ?it/s]",
      "application/vnd.jupyter.widget-view+json": {
       "version_major": 2,
       "version_minor": 0,
       "model_id": "482cffd2421b466698bac49de14d8c72"
      }
     },
     "metadata": {},
     "output_type": "display_data"
    },
    {
     "data": {
      "text/plain": "PGD - Iterations:   0%|          | 0/200 [00:00<?, ?it/s]",
      "application/vnd.jupyter.widget-view+json": {
       "version_major": 2,
       "version_minor": 0,
       "model_id": "8994c434e124432b93cc5d0effa36eb4"
      }
     },
     "metadata": {},
     "output_type": "display_data"
    },
    {
     "data": {
      "text/plain": "PGD - Random Initializations:   0%|          | 0/1 [00:00<?, ?it/s]",
      "application/vnd.jupyter.widget-view+json": {
       "version_major": 2,
       "version_minor": 0,
       "model_id": "140460a5390a48e7b690e87df2ea6ef9"
      }
     },
     "metadata": {},
     "output_type": "display_data"
    },
    {
     "data": {
      "text/plain": "PGD - Iterations:   0%|          | 0/200 [00:00<?, ?it/s]",
      "application/vnd.jupyter.widget-view+json": {
       "version_major": 2,
       "version_minor": 0,
       "model_id": "655e5464d7404ab2a9c2d1b81c5ef61e"
      }
     },
     "metadata": {},
     "output_type": "display_data"
    },
    {
     "data": {
      "text/plain": "PGD - Random Initializations:   0%|          | 0/1 [00:00<?, ?it/s]",
      "application/vnd.jupyter.widget-view+json": {
       "version_major": 2,
       "version_minor": 0,
       "model_id": "7b552c4e6c704b419c746de250cc9327"
      }
     },
     "metadata": {},
     "output_type": "display_data"
    },
    {
     "data": {
      "text/plain": "PGD - Iterations:   0%|          | 0/200 [00:00<?, ?it/s]",
      "application/vnd.jupyter.widget-view+json": {
       "version_major": 2,
       "version_minor": 0,
       "model_id": "2d2f3b24fb6a416880405a7a40a073d8"
      }
     },
     "metadata": {},
     "output_type": "display_data"
    },
    {
     "data": {
      "text/plain": "PGD - Random Initializations:   0%|          | 0/1 [00:00<?, ?it/s]",
      "application/vnd.jupyter.widget-view+json": {
       "version_major": 2,
       "version_minor": 0,
       "model_id": "33b33e2433404819ba7d40bbce311ef2"
      }
     },
     "metadata": {},
     "output_type": "display_data"
    },
    {
     "data": {
      "text/plain": "PGD - Iterations:   0%|          | 0/200 [00:00<?, ?it/s]",
      "application/vnd.jupyter.widget-view+json": {
       "version_major": 2,
       "version_minor": 0,
       "model_id": "b78c086a593548fe87474fbf45df108d"
      }
     },
     "metadata": {},
     "output_type": "display_data"
    }
   ],
   "source": [
    "attack = PoisoningAttackCleanLabelBackdoor(backdoor=backdoor,\n",
    "                                           proxy_classifier=proxy.get_classifier(),\n",
    "                                           target=targets,\n",
    "                                           pp_poison=percent_poison,\n",
    "                                           norm=2,\n",
    "                                           eps=5,\n",
    "                                           eps_step=0.1,\n",
    "                                           max_iter=200)\n",
    "pdata, plabels = attack.poison(x_train, y_train)"
   ],
   "metadata": {
    "collapsed": false,
    "ExecuteTime": {
     "end_time": "2023-12-26T18:03:32.130224600Z",
     "start_time": "2023-12-26T18:02:44.046249400Z"
    }
   }
  },
  {
   "cell_type": "markdown",
   "source": [
    "Травим примеры данных"
   ],
   "metadata": {
    "collapsed": false
   }
  },
  {
   "cell_type": "code",
   "execution_count": 10,
   "outputs": [
    {
     "name": "stdout",
     "output_type": "stream",
     "text": [
      "1030\n",
      "Label: 9\n"
     ]
    },
    {
     "data": {
      "text/plain": "<Figure size 640x480 with 1 Axes>",
      "image/png": "[encoded data removed]"
     },
     "metadata": {},
     "output_type": "display_data"
    }
   ],
   "source": [
    "poisoned = pdata[np.all(plabels == targets, axis=1)]\n",
    "poisoned_labels = plabels[np.all(plabels == targets, axis=1)]\n",
    "print(len(poisoned))\n",
    "idx = 0\n",
    "plt.imshow(poisoned[idx].squeeze())\n",
    "print(f\"Label: {np.argmax(poisoned_labels[idx])}\")"
   ],
   "metadata": {
    "collapsed": false,
    "ExecuteTime": {
     "end_time": "2023-12-26T18:03:32.334159600Z",
     "start_time": "2023-12-26T18:03:32.117225700Z"
    }
   }
  },
  {
   "cell_type": "markdown",
   "source": [
    "Обучаем модель на отравленных данных"
   ],
   "metadata": {
    "collapsed": false
   }
  },
  {
   "cell_type": "code",
   "execution_count": 11,
   "outputs": [
    {
     "name": "stdout",
     "output_type": "stream",
     "text": [
      "Train on 10000 samples\n",
      "Epoch 1/10\n",
      "10000/10000 [==============================] - 9s 869us/sample - loss: 0.5725 - accuracy: 0.8262\n",
      "Epoch 2/10\n",
      "10000/10000 [==============================] - 9s 879us/sample - loss: 0.1793 - accuracy: 0.9489\n",
      "Epoch 3/10\n",
      "10000/10000 [==============================] - 9s 864us/sample - loss: 0.1062 - accuracy: 0.9687\n",
      "Epoch 4/10\n",
      "10000/10000 [==============================] - 9s 880us/sample - loss: 0.0756 - accuracy: 0.9774\n",
      "Epoch 5/10\n",
      "10000/10000 [==============================] - 8s 819us/sample - loss: 0.0535 - accuracy: 0.9841\n",
      "Epoch 6/10\n",
      "10000/10000 [==============================] - 9s 861us/sample - loss: 0.0442 - accuracy: 0.9860\n",
      "Epoch 7/10\n",
      "10000/10000 [==============================] - 8s 824us/sample - loss: 0.0434 - accuracy: 0.9873\n",
      "Epoch 8/10\n",
      "10000/10000 [==============================] - 8s 827us/sample - loss: 0.0272 - accuracy: 0.9917\n",
      "Epoch 9/10\n",
      "10000/10000 [==============================] - 8s 827us/sample - loss: 0.0235 - accuracy: 0.9923\n",
      "Epoch 10/10\n",
      "10000/10000 [==============================] - 8s 837us/sample - loss: 0.0203 - accuracy: 0.9940\n"
     ]
    }
   ],
   "source": [
    "model.fit(pdata, plabels, nb_epochs=10)"
   ],
   "metadata": {
    "collapsed": false,
    "ExecuteTime": {
     "end_time": "2023-12-26T18:04:57.846402600Z",
     "start_time": "2023-12-26T18:03:32.334159600Z"
    }
   }
  },
  {
   "cell_type": "markdown",
   "source": [
    "Тестируем чистую модель"
   ],
   "metadata": {
    "collapsed": false
   }
  },
  {
   "cell_type": "code",
   "execution_count": 12,
   "outputs": [
    {
     "name": "stdout",
     "output_type": "stream",
     "text": [
      "\n",
      "Чистая точность тестового набора: 98.11%\n"
     ]
    },
    {
     "data": {
      "text/plain": "<Figure size 640x480 with 1 Axes>",
      "image/png": "[encoded data removed]"
     },
     "metadata": {},
     "output_type": "display_data"
    },
    {
     "name": "stdout",
     "output_type": "stream",
     "text": [
      "Прогноз: 0\n"
     ]
    }
   ],
   "source": [
    "clean_preds = np.argmax(model.predict(x_test), axis=1)\n",
    "clean_correct = np.sum(clean_preds == np.argmax(y_test, axis=1))\n",
    "clean_total = y_test.shape[0]\n",
    "clean_acc = clean_correct / clean_total\n",
    "\n",
    "print(\"\\nЧистая точность тестового набора: %.2f%%\" % (clean_acc * 100))\n",
    "\n",
    "# как отравленная модель классифицирует чистую\n",
    "c = 0 # Класс для показа\n",
    "i = 0 # изображение класса для отображения\n",
    "c_idx = np.where(np.argmax(y_test, 1) == c)[0][i] # индекс изображения в чистых массивах\n",
    "plt.imshow(x_test[c_idx].squeeze())\n",
    "plt.show()\n",
    "clean_label = c\n",
    "print(\"Прогноз: \" + str(clean_preds[c_idx]))"
   ],
   "metadata": {
    "collapsed": false,
    "ExecuteTime": {
     "end_time": "2023-12-26T18:05:00.744474900Z",
     "start_time": "2023-12-26T18:04:57.842403500Z"
    }
   }
  },
  {
   "cell_type": "markdown",
   "source": [
    "Получаем результаты атаки на модель"
   ],
   "metadata": {
    "collapsed": false
   }
  },
  {
   "cell_type": "code",
   "execution_count": 13,
   "outputs": [
    {
     "name": "stdout",
     "output_type": "stream",
     "text": [
      "\n",
      "Точность тестера на яд: 0.21%\n"
     ]
    },
    {
     "data": {
      "text/plain": "<Figure size 640x480 with 1 Axes>",
      "image/png": "[encoded data removed]"
     },
     "metadata": {},
     "output_type": "display_data"
    },
    {
     "name": "stdout",
     "output_type": "stream",
     "text": [
      "Прогноз: 9\n"
     ]
    }
   ],
   "source": [
    "not_target = np.logical_not(np.all(y_test == targets, axis=1))\n",
    "px_test, py_test = backdoor.poison(x_test[not_target], y_test[not_target])\n",
    "poison_preds = np.argmax(model.predict(px_test), axis=1)\n",
    "poison_correct = np.sum(poison_preds == np.argmax(y_test[not_target],\n",
    "axis=1))\n",
    "poison_total = poison_preds.shape[0]\n",
    "poison_acc = poison_correct / poison_total\n",
    "\n",
    "print(\"\\nТочность тестера на яд: %.2f%%\" % (poison_acc * 100))\n",
    "\n",
    "c = 0 # индекс для отображения\n",
    "plt.imshow(px_test[c].squeeze())\n",
    "plt.show()\n",
    "clean_label = c\n",
    "print(\"Прогноз: \" + str(poison_preds[c]))"
   ],
   "metadata": {
    "collapsed": false,
    "ExecuteTime": {
     "end_time": "2023-12-26T18:05:03.387627600Z",
     "start_time": "2023-12-26T18:05:00.750472100Z"
    }
   }
  },
  {
   "cell_type": "markdown",
   "source": [
    "Ретроспективно поясняем за код."
   ],
   "metadata": {
    "collapsed": false
   }
  }
 ],
 "metadata": {
  "kernelspec": {
   "display_name": "Python 3",
   "language": "python",
   "name": "python3"
  },
  "language_info": {
   "codemirror_mode": {
    "name": "ipython",
    "version": 2
   },
   "file_extension": ".py",
   "mimetype": "text/x-python",
   "name": "python",
   "nbconvert_exporter": "python",
   "pygments_lexer": "ipython2",
   "version": "2.7.6"
  }
 },
 "nbformat": 4,
 "nbformat_minor": 0
}
