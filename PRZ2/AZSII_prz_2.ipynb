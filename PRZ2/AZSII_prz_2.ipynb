{
 "cells": [
  {
   "cell_type": "markdown",
   "source": [
    " Скопировать проект по ссылке в локальную среду выполнения Jupyter (Google Colab) EEL6812_DeepFool_Project"
   ],
   "metadata": {
    "collapsed": false
   }
  },
  {
   "cell_type": "code",
   "execution_count": null,
   "outputs": [],
   "source": [
    "!git clone https://github.com/ewatson2/EEL6812_DeepFool_Project.git"
   ],
   "metadata": {
    "collapsed": false,
    "is_executing": true
   }
  },
  {
   "cell_type": "markdown",
   "source": [
    "Сменить директорию исполнения на вновь созданную папку \"EEL6812_DeepFool_Project\"\n",
    "проекта."
   ],
   "metadata": {
    "collapsed": false
   }
  },
  {
   "cell_type": "code",
   "execution_count": 1,
   "outputs": [
    {
     "name": "stdout",
     "output_type": "stream",
     "text": [
      "C:\\Python\\ASZII\\EEL6812_DeepFool_Project\n"
     ]
    }
   ],
   "source": [
    "%cd ./EEL6812_DeepFool_Project"
   ],
   "metadata": {
    "collapsed": false,
    "ExecuteTime": {
     "end_time": "2023-10-16T16:22:10.803210300Z",
     "start_time": "2023-10-16T16:22:10.782216800Z"
    }
   }
  },
  {
   "cell_type": "markdown",
   "source": [
    "Выполнить импорт библиотек"
   ],
   "metadata": {
    "collapsed": false
   }
  },
  {
   "cell_type": "code",
   "execution_count": 2,
   "outputs": [],
   "source": [
    "import numpy as np\n",
    "import json, torch\n",
    "from torch.utils.data import DataLoader, random_split\n",
    "from torchvision  import datasets, models\n",
    "from torchvision.transforms import transforms"
   ],
   "metadata": {
    "collapsed": false,
    "ExecuteTime": {
     "end_time": "2023-10-16T16:24:13.841088200Z",
     "start_time": "2023-10-16T16:24:10.624724800Z"
    }
   }
  },
  {
   "cell_type": "markdown",
   "source": [
    "Выполним импорт вспомогательных библиотек из локальных файлов проекта:"
   ],
   "metadata": {
    "collapsed": false
   }
  },
  {
   "cell_type": "code",
   "execution_count": 3,
   "outputs": [],
   "source": [
    "from models.project_models import FC_500_150, LeNet_CIFAR, LeNet_MNIST, Net\n",
    "from utils.project_utils import get_clip_bounds, evaluate_attack, display_attack"
   ],
   "metadata": {
    "collapsed": false,
    "ExecuteTime": {
     "end_time": "2023-10-16T16:24:18.347967Z",
     "start_time": "2023-10-16T16:24:17.521721700Z"
    }
   }
  },
  {
   "cell_type": "markdown",
   "source": [
    "Установим случайное рандомное значение в виде переменной rand_seed={\"Порядковый номер ученика группы в Гугл-таблице\"}, укажем значение для np.random.seed и torch.manual_seed\n",
    "Установить указанное значение для np.random.seed и torch.manual_seed\n",
    "Использовать в качестсве устройства видеокарту (Среды выполнения--> Сменить среду выполнения --> T4 GPU)"
   ],
   "metadata": {
    "collapsed": false
   }
  },
  {
   "cell_type": "code",
   "execution_count": 4,
   "outputs": [],
   "source": [
    "rand_seed = 27\n",
    "np.random.seed(rand_seed)\n",
    "torch.manual_seed(rand_seed)\n",
    "\n",
    "use_cuda = torch.cuda.is_available()\n",
    "device = torch.device('cuda' if use_cuda else 'cpu')"
   ],
   "metadata": {
    "collapsed": false,
    "ExecuteTime": {
     "end_time": "2023-10-16T16:24:20.389977Z",
     "start_time": "2023-10-16T16:24:20.343993400Z"
    }
   }
  },
  {
   "cell_type": "markdown",
   "source": [
    "Загрузить датасет MNIST c параметрами mnist_mean = 0.5, mnist_std = 0.5, mnist_dim = 28"
   ],
   "metadata": {
    "collapsed": false
   }
  },
  {
   "cell_type": "code",
   "execution_count": 5,
   "outputs": [
    {
     "name": "stdout",
     "output_type": "stream",
     "text": [
      "Downloading http://yann.lecun.com/exdb/mnist/train-images-idx3-ubyte.gz\n",
      "Using downloaded and verified file: datasets/mnist\\MNIST\\raw\\train-images-idx3-ubyte.gz\n",
      "Extracting datasets/mnist\\MNIST\\raw\\train-images-idx3-ubyte.gz to datasets/mnist\\MNIST\\raw\n",
      "\n",
      "Downloading http://yann.lecun.com/exdb/mnist/train-labels-idx1-ubyte.gz\n",
      "Using downloaded and verified file: datasets/mnist\\MNIST\\raw\\train-labels-idx1-ubyte.gz\n",
      "Extracting datasets/mnist\\MNIST\\raw\\train-labels-idx1-ubyte.gz to datasets/mnist\\MNIST\\raw\n",
      "\n",
      "Downloading http://yann.lecun.com/exdb/mnist/t10k-images-idx3-ubyte.gz\n",
      "Using downloaded and verified file: datasets/mnist\\MNIST\\raw\\t10k-images-idx3-ubyte.gz\n",
      "Extracting datasets/mnist\\MNIST\\raw\\t10k-images-idx3-ubyte.gz to datasets/mnist\\MNIST\\raw\n",
      "\n",
      "Downloading http://yann.lecun.com/exdb/mnist/t10k-labels-idx1-ubyte.gz\n",
      "Downloading http://yann.lecun.com/exdb/mnist/t10k-labels-idx1-ubyte.gz to datasets/mnist\\MNIST\\raw\\t10k-labels-idx1-ubyte.gz\n"
     ]
    },
    {
     "name": "stderr",
     "output_type": "stream",
     "text": [
      "100.0%"
     ]
    },
    {
     "name": "stdout",
     "output_type": "stream",
     "text": [
      "Extracting datasets/mnist\\MNIST\\raw\\t10k-labels-idx1-ubyte.gz to datasets/mnist\\MNIST\\raw\n",
      "\n"
     ]
    },
    {
     "name": "stderr",
     "output_type": "stream",
     "text": [
      "\n"
     ]
    }
   ],
   "source": [
    "mnist_mean = 0.5\n",
    "mnist_std = 0.5\n",
    "mnist_dim = 28\n",
    "\n",
    "mnist_min, mnist_max = get_clip_bounds(mnist_mean,\n",
    "                                       mnist_std,\n",
    "                                       mnist_dim)\n",
    "mnist_min = mnist_min.to(device)\n",
    "mnist_max = mnist_max.to(device)\n",
    "\n",
    "mnist_tf = transforms.Compose([\n",
    "    transforms.ToTensor(),\n",
    "    transforms.Normalize(\n",
    "        mean=mnist_mean,\n",
    "        std=mnist_std)])\n",
    "\n",
    "mnist_tf_train = transforms.Compose([\n",
    "    transforms.RandomHorizontalFlip(),\n",
    "    transforms.ToTensor(),\n",
    "    transforms.Normalize(\n",
    "        mean=mnist_mean,\n",
    "        std=mnist_std)])\n",
    "\n",
    "mnist_tf_inv = transforms.Compose([\n",
    "    transforms.Normalize(\n",
    "        mean=0.0,\n",
    "        std=np.divide(1.0, mnist_std)),\n",
    "    transforms.Normalize(\n",
    "        mean=np.multiply(-1.0, mnist_std),\n",
    "        std=1.0)])\n",
    "\n",
    "mnist_temp = datasets.MNIST(root='datasets/mnist', train=True,\n",
    "                            download=True, transform=mnist_tf_train)\n",
    "mnist_train, mnist_val = random_split(mnist_temp, [50000, 10000])\n",
    "\n",
    "mnist_test = datasets.MNIST(root='datasets/mnist', train=False,\n",
    "                            download=True, transform=mnist_tf)\n",
    "\n",
    "cifar_classes = ['airplane', 'automobile', 'bird', 'cat', 'deer',\n",
    "                 'dog', 'frog', 'horse', 'ship', 'truck']"
   ],
   "metadata": {
    "collapsed": false,
    "ExecuteTime": {
     "end_time": "2023-10-16T16:24:27.892370700Z",
     "start_time": "2023-10-16T16:24:25.150717100Z"
    }
   }
  },
  {
   "cell_type": "markdown",
   "source": [
    "Загрузить датасет CIFAR-10 c параметрами\n",
    "cifar_mean = [0.491, 0.482, 0.447]\n",
    "\n",
    "cifar_std = [0.202,0.199, 0.201]\n",
    "\n",
    "cifar_dim = 32"
   ],
   "metadata": {
    "collapsed": false
   }
  },
  {
   "cell_type": "code",
   "execution_count": 6,
   "outputs": [
    {
     "name": "stdout",
     "output_type": "stream",
     "text": [
      "Downloading https://www.cs.toronto.edu/~kriz/cifar-10-python.tar.gz to datasets/cifar-10\\cifar-10-python.tar.gz\n"
     ]
    },
    {
     "name": "stderr",
     "output_type": "stream",
     "text": [
      "100.0%\n"
     ]
    },
    {
     "name": "stdout",
     "output_type": "stream",
     "text": [
      "Extracting datasets/cifar-10\\cifar-10-python.tar.gz to datasets/cifar-10\n",
      "Files already downloaded and verified\n"
     ]
    }
   ],
   "source": [
    "cifar_mean = [0.491, 0.482, 0.447]\n",
    "cifar_std = [0.202, 0.199, 0.201]\n",
    "cifar_dim = 32\n",
    "\n",
    "cifar_min, cifar_max = get_clip_bounds(cifar_mean,\n",
    "                                       cifar_std,\n",
    "                                       cifar_dim)\n",
    "cifar_min = cifar_min.to(device)\n",
    "cifar_max = cifar_max.to(device)\n",
    "\n",
    "cifar_tf = transforms.Compose([\n",
    "    transforms.ToTensor(),\n",
    "    transforms.Normalize(\n",
    "        mean=cifar_mean,\n",
    "        std=cifar_std)])\n",
    "\n",
    "cifar_tf_train = transforms.Compose([\n",
    "    transforms.RandomCrop(\n",
    "        size=cifar_dim,\n",
    "        padding=4),\n",
    "    transforms.RandomHorizontalFlip(),\n",
    "    transforms.ToTensor(),\n",
    "    transforms.Normalize(\n",
    "        mean=cifar_mean,\n",
    "        std=cifar_std)])\n",
    "\n",
    "cifar_tf_inv = transforms.Compose([\n",
    "    transforms.Normalize(\n",
    "        mean=[0.0, 0.0, 0.0],\n",
    "        std=np.divide(1.0, cifar_std)),\n",
    "    transforms.Normalize(\n",
    "        mean=np.multiply(-1.0, cifar_mean),\n",
    "        std=[1.0, 1.0, 1.0])])\n",
    "\n",
    "cifar_temp = datasets.CIFAR10(root='datasets/cifar-10', train=True,\n",
    "                              download=True, transform=cifar_tf_train)\n",
    "cifar_train, cifar_val = random_split(cifar_temp, [40000, 10000])\n",
    "\n",
    "cifar_test = datasets.CIFAR10(root='datasets/cifar-10', train=False,\n",
    "                              download=True, transform=cifar_tf)"
   ],
   "metadata": {
    "collapsed": false,
    "ExecuteTime": {
     "end_time": "2023-10-16T16:24:55.696509Z",
     "start_time": "2023-10-16T16:24:35.464732Z"
    }
   }
  },
  {
   "cell_type": "markdown",
   "source": [
    "Выполнить настройку и загрузку DataLoader\n",
    "batch_size = 64\n",
    "workers = 4"
   ],
   "metadata": {
    "collapsed": false
   }
  },
  {
   "cell_type": "code",
   "execution_count": 7,
   "outputs": [],
   "source": [
    "batch_size = 64\n",
    "workers = 4\n",
    "\n",
    "mnist_loader_train = DataLoader(mnist_train, batch_size=batch_size,\n",
    "                                shuffle=True, num_workers=workers)\n",
    "mnist_loader_val = DataLoader(mnist_val, batch_size=batch_size,\n",
    "                              shuffle=False, num_workers=workers)\n",
    "mnist_loader_test = DataLoader(mnist_test, batch_size=batch_size,\n",
    "                               shuffle=False, num_workers=workers)\n",
    "\n",
    "cifar_loader_train = DataLoader(cifar_train, batch_size=batch_size,\n",
    "                                shuffle=True, num_workers=workers)\n",
    "cifar_loader_val = DataLoader(cifar_val, batch_size=batch_size,\n",
    "                              shuffle=False, num_workers=workers)\n",
    "cifar_loader_test = DataLoader(cifar_test, batch_size=batch_size,\n",
    "                               shuffle=False, num_workers=workers)"
   ],
   "metadata": {
    "collapsed": false,
    "ExecuteTime": {
     "end_time": "2023-10-16T16:30:45.975304200Z",
     "start_time": "2023-10-16T16:30:45.949311400Z"
    }
   }
  },
  {
   "cell_type": "code",
   "execution_count": 10,
   "outputs": [],
   "source": [
    "import os\n",
    "train_model = True\n",
    "\n",
    "epochs = 50\n",
    "epochs_nin = 100\n",
    "\n",
    "lr = 0.004\n",
    "lr_nin = 0.01\n",
    "lr_scale = 0.5\n",
    "\n",
    "momentum = 0.9\n",
    "\n",
    "print_step = 5\n",
    "\n",
    "deep_batch_size = 10\n",
    "deep_num_classes = 10\n",
    "deep_overshoot = 0.02\n",
    "deep_max_iters = 50\n",
    "\n",
    "deep_args = [deep_batch_size, deep_num_classes,\n",
    "             deep_overshoot, deep_max_iters]\n",
    "\n",
    "if not os.path.isdir('weights/deepfool'):\n",
    "    os.makedirs('weights/deepfool', exist_ok=True)\n",
    "\n",
    "if not os.path.isdir('weights/fgsm'):\n",
    "    os.makedirs('weights/fgsm', exist_ok=True)"
   ],
   "metadata": {
    "collapsed": false,
    "ExecuteTime": {
     "end_time": "2023-10-16T16:31:10.651818Z",
     "start_time": "2023-10-16T16:31:10.610831300Z"
    }
   }
  },
  {
   "cell_type": "markdown",
   "source": [
    "Загрузить и оценить стойкость модели LeNet к FGSM и DeepFool атакам"
   ],
   "metadata": {
    "collapsed": false
   }
  },
  {
   "cell_type": "code",
   "execution_count": 11,
   "outputs": [
    {
     "name": "stdout",
     "output_type": "stream",
     "text": [
      "FGSM Test Error : 87.89%\n",
      "FGSM Robustness : 4.58e-01\n",
      "FGSM Time (All Images) : 0.29 s\n",
      "FGSM Time (Per Image) : 28.86 us\n",
      "\n",
      "DeepFool Test Error : 98.74%\n",
      "DeepFool Robustness : 9.64e-02\n",
      "DeepFool Time (All Images) : 193.32 s\n",
      "DeepFool Time (Per Image) : 19.33 ms\n"
     ]
    }
   ],
   "source": [
    "fgsm_eps = 0.6\n",
    "model = LeNet_MNIST().to(device)\n",
    "model.load_state_dict(torch.load('weights/clean/mnist_lenet.pth',map_location=torch.device('cpu')))\n",
    "evaluate_attack('mnist_lenet_fgsm.csv',\n",
    "                'results', device, model, mnist_loader_test,\n",
    "                mnist_min, mnist_max,fgsm_eps, is_fgsm=True)\n",
    "print('')\n",
    "\n",
    "evaluate_attack('mnist_lenet_deepfool.csv', 'results', device, model,\n",
    "mnist_loader_test, mnist_min, mnist_max, deep_args, is_fgsm=False)\n",
    "if device.type == 'cuda': torch.cuda.empty_cache()"
   ],
   "metadata": {
    "collapsed": false,
    "ExecuteTime": {
     "end_time": "2023-10-16T16:31:14.337836700Z",
     "start_time": "2023-10-16T16:31:14.274857Z"
    }
   }
  },
  {
   "cell_type": "markdown",
   "source": [
    "Загрузить и оценить стойкость модели FC к FGSM и DeepFool атакам"
   ],
   "metadata": {
    "collapsed": false
   }
  },
  {
   "cell_type": "code",
   "execution_count": 12,
   "outputs": [
    {
     "name": "stdout",
     "output_type": "stream",
     "text": [
      "FGSM Test Error : 87.08%\n",
      "FGSM Robustness : 1.56e-01\n",
      "FGSM Time (All Images) : 0.15 s\n",
      "FGSM Time (Per Image) : 14.99 us\n",
      "\n",
      "DeepFool Test Error : 97.92%\n",
      "DeepFool Robustness : 6.78e-02\n",
      "DeepFool Time (All Images) : 141.81 s\n",
      "DeepFool Time (Per Image) : 14.18 ms\n"
     ]
    }
   ],
   "source": [
    "fgsm_eps = 0.2\n",
    "model = FC_500_150().to(device)\n",
    "model.load_state_dict(torch.load('weights/clean/mnist_fc.pth', map_location=torch.device('cpu')))\n",
    "\n",
    "evaluate_attack('mnist_fc_fgsm.csv', 'results', device, model,\n",
    "                mnist_loader_test, mnist_min, mnist_max, fgsm_eps, is_fgsm=True)\n",
    "print('')\n",
    "\n",
    "evaluate_attack('mnist_fc_deepfool.csv', 'results', device, model,\n",
    "mnist_loader_test, mnist_min, mnist_max, deep_args, is_fgsm=False)\n",
    "if device.type == 'cuda': torch.cuda.empty_cache()"
   ],
   "metadata": {
    "collapsed": false,
    "ExecuteTime": {
     "end_time": "2023-10-16T16:31:17.606882900Z",
     "start_time": "2023-10-16T16:31:17.530907Z"
    }
   }
  },
  {
   "cell_type": "code",
   "execution_count": null,
   "outputs": [],
   "source": [],
   "metadata": {
    "collapsed": false
   }
  }
 ],
 "metadata": {
  "kernelspec": {
   "display_name": "Python 3",
   "language": "python",
   "name": "python3"
  },
  "language_info": {
   "codemirror_mode": {
    "name": "ipython",
    "version": 2
   },
   "file_extension": ".py",
   "mimetype": "text/x-python",
   "name": "python",
   "nbconvert_exporter": "python",
   "pygments_lexer": "ipython2",
   "version": "2.7.6"
  }
 },
 "nbformat": 4,
 "nbformat_minor": 0
}
